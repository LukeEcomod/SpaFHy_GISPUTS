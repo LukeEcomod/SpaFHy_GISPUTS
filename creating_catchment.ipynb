{
 "cells": [
  {
   "cell_type": "code",
   "execution_count": 1,
   "id": "f37bb4ca-af1f-4649-8ce4-ff4b10f6cc8d",
   "metadata": {},
   "outputs": [],
   "source": [
    "from tools import create_catchment"
   ]
  },
  {
   "cell_type": "code",
   "execution_count": 2,
   "id": "0ba01b5f-dca9-4955-b292-8954dd3b46ea",
   "metadata": {},
   "outputs": [],
   "source": [
    "fpath = r'/scratch/project_2000908/nousu/GISPUTS/Kuivalake_Catchment/GIS_inputs/kuivajarvi/'"
   ]
  },
  {
   "cell_type": "code",
   "execution_count": 3,
   "id": "53232950-74c9-417f-a469-7130261878d2",
   "metadata": {},
   "outputs": [
    {
     "ename": "NameError",
     "evalue": "name 'griddata' is not defined",
     "output_type": "error",
     "traceback": [
      "\u001b[0;31m---------------------------------------------------------------------------\u001b[0m",
      "\u001b[0;31mNameError\u001b[0m                                 Traceback (most recent call last)",
      "Cell \u001b[0;32mIn[3], line 1\u001b[0m\n\u001b[0;32m----> 1\u001b[0m \u001b[43mcreate_catchment\u001b[49m\u001b[43m(\u001b[49m\u001b[43mfpath\u001b[49m\u001b[43m)\u001b[49m\n",
      "File \u001b[0;32m/projappl/project_2000908/nousu/SpaFHy_GISPUTS/tools.py:685\u001b[0m, in \u001b[0;36mcreate_catchment\u001b[0;34m(fpath, plotgrids, plotdistr)\u001b[0m\n\u001b[1;32m    682\u001b[0m y1 \u001b[38;5;241m=\u001b[39m yy[\u001b[38;5;241m~\u001b[39marray\u001b[38;5;241m.\u001b[39mmask]\n\u001b[1;32m    683\u001b[0m newarr \u001b[38;5;241m=\u001b[39m array[\u001b[38;5;241m~\u001b[39marray\u001b[38;5;241m.\u001b[39mmask]\n\u001b[0;32m--> 685\u001b[0m maintype \u001b[38;5;241m=\u001b[39m \u001b[43mgriddata\u001b[49m((x1, y1), newarr\u001b[38;5;241m.\u001b[39mravel(),\n\u001b[1;32m    686\u001b[0m                       (xx, yy),\n\u001b[1;32m    687\u001b[0m                          method\u001b[38;5;241m=\u001b[39m\u001b[38;5;124m'\u001b[39m\u001b[38;5;124mnearest\u001b[39m\u001b[38;5;124m'\u001b[39m)\n\u001b[1;32m    689\u001b[0m \u001b[38;5;66;03m# catchment outlet location and catchment mean elevation\u001b[39;00m\n\u001b[1;32m    690\u001b[0m (iy, ix) \u001b[38;5;241m=\u001b[39m np\u001b[38;5;241m.\u001b[39mwhere(flowacc \u001b[38;5;241m==\u001b[39m np\u001b[38;5;241m.\u001b[39mnanmax(flowacc))\n",
      "\u001b[0;31mNameError\u001b[0m: name 'griddata' is not defined"
     ]
    }
   ],
   "source": [
    "create_catchment(fpath)"
   ]
  },
  {
   "cell_type": "code",
   "execution_count": null,
   "id": "c99561e7-59e9-4038-8f58-6b2afd91c093",
   "metadata": {},
   "outputs": [],
   "source": []
  }
 ],
 "metadata": {
  "kernelspec": {
   "display_name": "Python 3 (ipykernel)",
   "language": "python",
   "name": "python3"
  },
  "language_info": {
   "codemirror_mode": {
    "name": "ipython",
    "version": 3
   },
   "file_extension": ".py",
   "mimetype": "text/x-python",
   "name": "python",
   "nbconvert_exporter": "python",
   "pygments_lexer": "ipython3",
   "version": "3.11.6"
  }
 },
 "nbformat": 4,
 "nbformat_minor": 5
}
