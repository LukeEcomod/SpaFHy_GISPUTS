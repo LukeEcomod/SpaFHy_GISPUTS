{
 "cells": [
  {
   "cell_type": "markdown",
   "id": "2f7e1e6c-edf7-4f8d-806f-4db7c895960d",
   "metadata": {},
   "source": [
    "J1:\n",
    "Swedish: ['Morän', 'Postglacial sand--grus', 'Svallsediment, grus--block', 'Torv', 'Isälvssediment', 'Lera--silt']\n",
    "Finnish: ['Moreeni', 'Jääkauden jälkeinen hiekka--sora', 'Huuhdottu sedimentti, sora--kivet', 'Turve', 'Sulamisvesisedimentti', 'Savi--lieju']\n",
    "English: ['Moraine', 'Postglacial sand--gravel', 'Washed sediment, gravel--boulders', 'Peat', 'Glaciofluvial sediment', 'Clay--silt']\n",
    "\n",
    "J2:\n",
    "Swedish: ['Fyllning', 'Isälvssediment', 'Torv', 'Postglacial sand', 'Älvsediment, sand', 'Vatten', 'Morän', 'Lera--silt', 'Berg']\n",
    "Finnish: ['Täyttömaa', 'Sulamisvesisedimentti', 'Turve', 'Jääkauden jälkeinen hiekka', 'Jokisedimentti, hiekka', 'Vesi', 'Moreeni', 'Savi--lieju', 'Kallio']\n",
    "English: ['Fill', 'Glaciofluvial sediment', 'Peat', 'Postglacial sand', 'Fluvial sediment, sand', 'Water', 'Moraine', 'Clay--silt', 'Bedrock']\n",
    "\n",
    "J1_J2:\n",
    "Swedish: ["
   ]
  },
  {
   "cell_type": "code",
   "execution_count": 1,
   "id": "ae86cb28-cff5-4d33-a7a0-9a5791179dcc",
   "metadata": {},
   "outputs": [
    {
     "name": "stderr",
     "output_type": "stream",
     "text": [
      "OMP: Info #276: omp_set_nested routine deprecated, please use omp_set_max_active_levels instead.\n"
     ]
    }
   ],
   "source": [
    "import tools\n",
    "import rasterio\n",
    "import geopandas as gpd\n",
    "import os\n",
    "import glob\n",
    "import numpy as np\n",
    "import matplotlib.pyplot as plt\n",
    "from catchment import stem_volume_to_LAI\n",
    "from rasterio.fill import fillnodata\n",
    "%load_ext autoreload\n",
    "%autoreload 2"
   ]
  },
  {
   "cell_type": "markdown",
   "id": "179a932c-9547-4dd2-9e7e-b2aca83ff920",
   "metadata": {},
   "source": [
    "### CATCHMENTS SHAPEFILE DETERMINES THE BOUNDS SUBSET (FROM KRYCKLAN DATABASE)"
   ]
  },
  {
   "cell_type": "code",
   "execution_count": 3,
   "id": "cca929f2-876f-4957-8ba1-42bb51aef134",
   "metadata": {},
   "outputs": [],
   "source": [
    "file = r'/Users/jpnousu/Library/CloudStorage/OneDrive-Valtion/Krycklan data/GIS/CATCHMENTS/Krycklan_catchments/Krycklan catchments.shp'\n",
    "df = gpd.read_file(file)\n",
    "subset = df.total_bounds\n",
    "subset = subset.round(0)\n",
    "# and 50m buffer\n",
    "subset[0] = subset[0]-50\n",
    "subset[1] = subset[1]-50\n",
    "subset[2] = subset[2]+50\n",
    "subset[3] = subset[3]+50"
   ]
  },
  {
   "cell_type": "markdown",
   "id": "20bbcc15-7d8e-4395-8878-9c39b28eb52a",
   "metadata": {},
   "source": [
    "### SLU FOREST MAP 2010 (FROM ONLINE)"
   ]
  },
  {
   "cell_type": "code",
   "execution_count": 5,
   "id": "09424246-9aa0-4e9d-807f-b6834159a6d8",
   "metadata": {},
   "outputs": [],
   "source": [
    "fd = r'/Users/jpnousu/Library/CloudStorage/OneDrive-Valtion/Krycklan data/GIS/SLU_FOREST_MAP/2010/'\n",
    "out_fd = '/Users/jpnousu/Library/CloudStorage/OneDrive-Valtion/Krycklan data/GIS/SLU_FOREST_MAP_KRYCKLAN/2010/'\n",
    "p = os.path.join(fd, '*.tif')\n",
    "for file in glob.glob(p):\n",
    "    out_fn = file.rpartition('/')[-1][:-4]\n",
    "    out_fp = os.path.join(out_fd, out_fn) + '.asc'\n",
    "    tools.open_raster_with_subset(file, out_fp, subset, plot=False, save_in='asc')"
   ]
  },
  {
   "cell_type": "code",
   "execution_count": 34,
   "id": "4d09939c-8e0e-46d6-9dba-a3f44c24839a",
   "metadata": {},
   "outputs": [],
   "source": [
    "fd = '/Users/jpnousu/Library/CloudStorage/OneDrive-Valtion/Krycklan data/GIS/SLU_FOREST_MAP_KRYCKLAN/2010/'\n",
    "out_fd = '/Users/jpnousu/Library/CloudStorage/OneDrive-Valtion/Krycklan data/GIS/SLU_FOREST_MAP_KRYCKLAN/2010_processed/'\n",
    "p = os.path.join(fd, '*.asc')\n",
    "for file in glob.glob(p):\n",
    "    out_fn = file.rpartition('/')[-1][:-4]\n",
    "    out_fp = os.path.join(out_fd, out_fn) + '.asc'\n",
    "    with rasterio.open(file) as src:\n",
    "        data = src.read(1)\n",
    "        meta = src.meta.copy()\n",
    "        nodata_1 = meta['nodata']\n",
    "        nodata_2 = -9999\n",
    "        data[data == nodata_1] = nodata_2\n",
    "        data[data == nodata_2] = 0.0\n",
    "        meta.update({\"nodata\":nodata_2})\n",
    "    with rasterio.open(out_fp, 'w', **meta) as dst:\n",
    "        src = dst.write(data, 1)"
   ]
  },
  {
   "cell_type": "markdown",
   "id": "dadbcaf6-9afc-46fe-a3b4-485d70b66495",
   "metadata": {},
   "source": [
    "### CANOPY FRACTION AND LAI FRACTIONS FROM FOREST MAP"
   ]
  },
  {
   "cell_type": "code",
   "execution_count": 35,
   "id": "8020b4f7-9600-4346-a7d9-cc08a1fab687",
   "metadata": {},
   "outputs": [],
   "source": [
    "vol_spruce_fp = r'/Users/jpnousu/Library/CloudStorage/OneDrive-Valtion/Krycklan data/GIS/SLU_FOREST_MAP_KRYCKLAN/2010_processed/SPRUCEVOL_XX_P_10.asc'\n",
    "vol_pine_fp = r'/Users/jpnousu/Library/CloudStorage/OneDrive-Valtion/Krycklan data/GIS/SLU_FOREST_MAP_KRYCKLAN/2010_processed/PINEVOL_XX_P_10.asc'\n",
    "vol_decid_fp = r'/Users/jpnousu/Library/CloudStorage/OneDrive-Valtion/Krycklan data/GIS/SLU_FOREST_MAP_KRYCKLAN/2010_processed/DECIDUOUSVOL_XX_P_10.asc'\n",
    "lai_spruce_fp = r'/Users/jpnousu/Library/CloudStorage/OneDrive-Valtion/Krycklan data/GIS/SLU_FOREST_MAP_KRYCKLAN/2010_processed/LAI_FM_spruce.asc'\n",
    "lai_pine_fp = r'/Users/jpnousu/Library/CloudStorage/OneDrive-Valtion/Krycklan data/GIS/SLU_FOREST_MAP_KRYCKLAN/2010_processed/LAI_FM_pine.asc'\n",
    "lai_decid_fp = r'/Users/jpnousu/Library/CloudStorage/OneDrive-Valtion/Krycklan data/GIS/SLU_FOREST_MAP_KRYCKLAN/2010_processed/LAI_FM_decid.asc'\n",
    "\n",
    "files = [vol_spruce_fp, vol_pine_fp, vol_decid_fp]\n",
    "out_files = [lai_spruce_fp, lai_pine_fp, lai_decid_fp]\n",
    "trees = ['spruce', 'pine', 'decid']\n",
    "\n",
    "for idx, file in enumerate(files):\n",
    "    with rasterio.open(file) as src:\n",
    "        vol = src.read(1)\n",
    "        vol = vol.astype(float)\n",
    "        out_meta = src.meta.copy()\n",
    "        nodata = out_meta['nodata']\n",
    "        vol[vol == nodata] = 0.0\n",
    "        LAI = stem_volume_to_LAI(vol, tree=trees[idx])\n",
    "        out_meta.update({\"nodata\": -9999,\n",
    "                        \"dtype\": np.float32,\n",
    "                        })\n",
    "        with rasterio.open(out_files[idx], 'w', **out_meta) as dst:\n",
    "            out = dst.write(LAI, 1)\n",
    "\n",
    "# MAKE CANOPY FRACTION AS SAMULI PROPOSED"
   ]
  },
  {
   "cell_type": "code",
   "execution_count": 38,
   "id": "85100dee-1c3d-410a-8688-7897ce5e22ad",
   "metadata": {},
   "outputs": [
    {
     "name": "stderr",
     "output_type": "stream",
     "text": [
      "/var/folders/01/f14lxpfj5wl28zjtf5rz8t9c0000gn/T/ipykernel_5358/713177211.py:18: RuntimeWarning: invalid value encountered in divide\n",
      "  laif_decid = lai_decid / lai_tot\n",
      "/var/folders/01/f14lxpfj5wl28zjtf5rz8t9c0000gn/T/ipykernel_5358/713177211.py:19: RuntimeWarning: invalid value encountered in divide\n",
      "  laif_spruce = lai_spruce / lai_tot\n",
      "/var/folders/01/f14lxpfj5wl28zjtf5rz8t9c0000gn/T/ipykernel_5358/713177211.py:20: RuntimeWarning: invalid value encountered in divide\n",
      "  laif_pine = lai_pine / lai_tot\n"
     ]
    }
   ],
   "source": [
    "lai_spruce_fp = r'/Users/jpnousu/Library/CloudStorage/OneDrive-Valtion/Krycklan data/GIS/SLU_FOREST_MAP_KRYCKLAN/2010_processed/LAI_FM_spruce.asc'\n",
    "lai_pine_fp = r'/Users/jpnousu/Library/CloudStorage/OneDrive-Valtion/Krycklan data/GIS/SLU_FOREST_MAP_KRYCKLAN/2010_processed/LAI_FM_pine.asc'\n",
    "lai_decid_fp = r'/Users/jpnousu/Library/CloudStorage/OneDrive-Valtion/Krycklan data/GIS/SLU_FOREST_MAP_KRYCKLAN/2010_processed/LAI_FM_decid.asc'\n",
    "\n",
    "laif_spruce_fp = r'/Users/jpnousu/Library/CloudStorage/OneDrive-Valtion/Krycklan data/GIS/SLU_FOREST_MAP_KRYCKLAN/2010_processed/LAIF_FM_spruce.asc'\n",
    "laif_pine_fp = r'/Users/jpnousu/Library/CloudStorage/OneDrive-Valtion/Krycklan data/GIS/SLU_FOREST_MAP_KRYCKLAN/2010_processed/LAIF_FM_pine.asc'\n",
    "laif_decid_fp = r'/Users/jpnousu/Library/CloudStorage/OneDrive-Valtion/Krycklan data/GIS/SLU_FOREST_MAP_KRYCKLAN/2010_processed/LAIF_FM_decid.asc'\n",
    "\n",
    "with rasterio.open(lai_spruce_fp) as src1:\n",
    "    lai_spruce = src1.read(1)\n",
    "    out_meta = src1.meta.copy()\n",
    "    nodata = out_meta['nodata']\n",
    "with rasterio.open(lai_pine_fp) as src2:\n",
    "    lai_pine = src2.read(1)\n",
    "with rasterio.open(lai_decid_fp) as src3:\n",
    "    lai_decid = src3.read(1)\n",
    "    lai_tot = lai_spruce + lai_pine + lai_decid\n",
    "    laif_decid = lai_decid / lai_tot\n",
    "    laif_spruce = lai_spruce / lai_tot\n",
    "    laif_pine = lai_pine / lai_tot\n",
    "    laif_spruce[~np.isfinite(laif_spruce)] = 0\n",
    "    laif_pine[~np.isfinite(laif_pine)] = 0\n",
    "    laif_decid[~np.isfinite(laif_decid)] = 0\n",
    "    \n",
    "    with rasterio.open(laif_spruce_fp, 'w', **out_meta) as dst1:\n",
    "        out1 = dst1.write(laif_spruce, 1)\n",
    "    with rasterio.open(laif_pine_fp, 'w', **out_meta) as dst2:\n",
    "        out2 = dst2.write(laif_pine, 1)\n",
    "    with rasterio.open(laif_decid_fp, 'w', **out_meta) as dst3:\n",
    "        out3 = dst3.write(laif_decid, 1)"
   ]
  },
  {
   "cell_type": "markdown",
   "id": "a3891611-fcf0-4fe7-83c6-d5bf4c75d75a",
   "metadata": {},
   "source": [
    "### LAI (FROM HENRIK)"
   ]
  },
  {
   "cell_type": "code",
   "execution_count": 12,
   "id": "81026f94-d8e5-4df4-b997-298c85d2a5d4",
   "metadata": {},
   "outputs": [
    {
     "name": "stdout",
     "output_type": "stream",
     "text": [
      "Coregistered to shape: 460 412 \n",
      " Affine | 24.99, 0.00, 726726.00|\n",
      "| 0.00,-24.99, 7138700.00|\n",
      "| 0.00, 0.00, 1.00|\n"
     ]
    }
   ],
   "source": [
    "fp = r'/Users/jpnousu/Library/CloudStorage/OneDrive-Valtion/Krycklan data/GIS/KRYCKLAN_LAI/LAI_Krycklan_ALS_2019.tif'\n",
    "out_fp = r'/Users/jpnousu/Library/CloudStorage/OneDrive-Valtion/Krycklan data/GIS/KRYCKLAN_LAI/processed/LAI_Krycklan_ALS_2019_match_forestmap.asc'\n",
    "match = r'/Users/jpnousu/Library/CloudStorage/OneDrive-Valtion/Krycklan data/GIS/SLU_FOREST_MAP_KRYCKLAN/2010/HEIGHT_XX_P_10.asc'\n",
    "tools.reproj_match(infile=fp, match=match, outfile=out_fp, resampling_method='bilinear', save_in='asc')"
   ]
  },
  {
   "cell_type": "code",
   "execution_count": 41,
   "id": "63373c68-62c6-430b-b508-ed72d8fe6d48",
   "metadata": {},
   "outputs": [],
   "source": [
    "file = r'/Users/jpnousu/Library/CloudStorage/OneDrive-Valtion/Krycklan data/GIS/KRYCKLAN_LAI/processed/LAI_Krycklan_ALS_2019_match_forestmap.asc'\n",
    "out_fp = r'/Users/jpnousu/Library/CloudStorage/OneDrive-Valtion/Krycklan data/GIS/KRYCKLAN_LAI/processed/LAI_Krycklan_ALS_2019_match_forestmap_nona.asc'\n",
    "\n",
    "with rasterio.open(file) as src:\n",
    "    data = src.read(1)\n",
    "    meta = src.meta.copy()\n",
    "    nodata_1 = meta['nodata']\n",
    "    nodata_2 = -9999\n",
    "    data[data == nodata_1] = nodata_2\n",
    "    data[data == nodata_2] = 0.0\n",
    "    data[data < 0] = 0.0\n",
    "    meta.update({\"nodata\": nodata_2})\n",
    "with rasterio.open(out_fp, 'w', **meta) as dst:\n",
    "    src = dst.write(data, 1)"
   ]
  },
  {
   "cell_type": "markdown",
   "id": "956b172b-e3c5-45a5-8144-962d5234f463",
   "metadata": {},
   "source": [
    "### LAI FRACTIONS * LAI TOT = LAI SPECIES"
   ]
  },
  {
   "cell_type": "code",
   "execution_count": 43,
   "id": "3c8d6b1e-d26b-4c3b-b931-67ca16f38ed3",
   "metadata": {},
   "outputs": [],
   "source": [
    "fp = r'/Users/jpnousu/Library/CloudStorage/OneDrive-Valtion/Krycklan data/GIS/KRYCKLAN_LAI/processed/LAI_Krycklan_ALS_2019_match_forestmap_nona.asc'\n",
    "lai_spruce_fp = r'/Users/jpnousu/Library/CloudStorage/OneDrive-Valtion/Krycklan data/GIS/KRYCKLAN_LAI/processed/LAI_spruce.asc'\n",
    "lai_pine_fp = r'/Users/jpnousu/Library/CloudStorage/OneDrive-Valtion/Krycklan data/GIS/KRYCKLAN_LAI/processed/LAI_pine.asc'\n",
    "lai_decid_fp = r'/Users/jpnousu/Library/CloudStorage/OneDrive-Valtion/Krycklan data/GIS/KRYCKLAN_LAI/processed/LAI_decid.asc'\n",
    "\n",
    "with rasterio.open(fp) as src:\n",
    "    lai_tot = src.read(1)\n",
    "    nodata = src.meta.copy()['nodata']\n",
    "    out_meta = src.meta.copy()\n",
    "    lai_decid = lai_tot * laif_decid\n",
    "    lai_spruce = lai_tot * laif_spruce\n",
    "    lai_pine = lai_tot * laif_pine\n",
    "    lai_decid[lai_tot == nodata] = nodata\n",
    "    lai_spruce[lai_tot == nodata] = nodata\n",
    "    lai_pine[lai_tot == nodata] = nodata\n",
    "    \n",
    "    lai_decid[(lai_decid < 0) & (lai_decid != nodata)] = 0\n",
    "    lai_spruce[(lai_spruce < 0) & (lai_spruce != nodata)] = 0\n",
    "    lai_pine[(lai_pine < 0) & (lai_pine != nodata)] = 0\n",
    "    \n",
    "    with rasterio.open(lai_spruce_fp, 'w', **out_meta) as dst:\n",
    "        out = dst.write(lai_spruce, 1)\n",
    "    with rasterio.open(lai_pine_fp, 'w', **out_meta) as dst:\n",
    "        out = dst.write(lai_pine, 1)\n",
    "    with rasterio.open(lai_decid_fp, 'w', **out_meta) as dst:\n",
    "        out = dst.write(lai_decid, 1)"
   ]
  },
  {
   "cell_type": "code",
   "execution_count": 17,
   "id": "49448dda-7b86-4bb5-aced-8411166c922f",
   "metadata": {},
   "outputs": [],
   "source": [
    "def ba_from_vol(vol, a):\n",
    "    ba = a * vol\n",
    "    return ba\n",
    "\n",
    "def cf_from_ba(ba):\n",
    "    cf = 0.1939 * ba / (0.1939 * ba + 1.69)\n",
    "    return cf"
   ]
  },
  {
   "cell_type": "code",
   "execution_count": 19,
   "id": "0db26272-0e0f-44dd-97e6-afa1b95cb3d8",
   "metadata": {},
   "outputs": [],
   "source": [
    "vol_spruce_fp = r'/Users/jpnousu/Library/CloudStorage/OneDrive-Valtion/Krycklan data/GIS/SLU_FOREST_MAP_KRYCKLAN/2010/SPRUCEVOL_XX_P_10.asc'\n",
    "vol_pine_fp = r'/Users/jpnousu/Library/CloudStorage/OneDrive-Valtion/Krycklan data/GIS/SLU_FOREST_MAP_KRYCKLAN/2010/PINEVOL_XX_P_10.asc'\n",
    "vol_decid_fp = r'/Users/jpnousu/Library/CloudStorage/OneDrive-Valtion/Krycklan data/GIS/SLU_FOREST_MAP_KRYCKLAN/2010/DECIDUOUSVOL_XX_P_10.asc'\n",
    "\n",
    "cf_out_fp = r'/Users/jpnousu/Library/CloudStorage/OneDrive-Valtion/Krycklan data/GIS/SLU_FOREST_MAP_KRYCKLAN/2010_processed/canopy_fraction.asc'\n",
    "\n",
    "with rasterio.open(vol_spruce_fp) as src:\n",
    "    vol = src.read(1)\n",
    "    vol = vol.astype(float)\n",
    "    out_meta = src.meta.copy()\n",
    "    nodata = out_meta['nodata']\n",
    "    vol[vol == nodata] = 0.0\n",
    "    BA_spruce = ba_from_vol(vol=vol, a=0.09)\n",
    "with rasterio.open(vol_pine_fp) as src:\n",
    "    vol = src.read(1)\n",
    "    vol = vol.astype(float)\n",
    "    out_meta = src.meta.copy()\n",
    "    nodata = out_meta['nodata']\n",
    "    vol[vol == nodata] = 0.0\n",
    "    BA_pine = ba_from_vol(vol=vol, a=0.12)\n",
    "with rasterio.open(vol_decid_fp) as src:\n",
    "    vol = src.read(1)\n",
    "    vol = vol.astype(float)\n",
    "    out_meta = src.meta.copy()\n",
    "    nodata = out_meta['nodata']\n",
    "    vol[vol == nodata] = 0.0\n",
    "    BA_decid = ba_from_vol(vol=vol, a=0.12)\n",
    "\n",
    "    BA_tot = BA_spruce + BA_pine + BA_decid\n",
    "    \n",
    "    cf = cf_from_ba(ba=BA_tot)\n",
    "    \n",
    "    out_meta.update({\"nodata\": -9999,\n",
    "                    \"dtype\": np.float32,\n",
    "                    })\n",
    "with rasterio.open(cf_out_fp, 'w', **out_meta) as dst:\n",
    "    out = dst.write(cf, 1)"
   ]
  },
  {
   "cell_type": "markdown",
   "id": "c42d100d-d7c8-48c6-bb52-67c875bd2303",
   "metadata": {},
   "source": [
    "### DEM (FROM KRYCKLAN DATABASE)"
   ]
  },
  {
   "cell_type": "code",
   "execution_count": 7,
   "id": "3a2ee072-121d-4cc4-b976-c29cc03d915a",
   "metadata": {},
   "outputs": [
    {
     "name": "stdout",
     "output_type": "stream",
     "text": [
      "Coregistered to shape: 460 412 \n",
      " Affine | 24.99, 0.00, 726726.00|\n",
      "| 0.00,-24.99, 7138700.00|\n",
      "| 0.00, 0.00, 1.00|\n"
     ]
    }
   ],
   "source": [
    "fp = r'/Users/jpnousu/Library/CloudStorage/OneDrive-Valtion/Krycklan data/GIS/DEM/Krycklan_2015_DEM_0.5m/Krycklan_2015_DEM.tif'\n",
    "out_fp = r'/Users/jpnousu/Library/CloudStorage/OneDrive-Valtion/Krycklan data/GIS/DEM/processed/Krycklan_2015_DEM_match_forestmap.tif'\n",
    "match = r'/Users/jpnousu/Library/CloudStorage/OneDrive-Valtion/Krycklan data/GIS/SLU_FOREST_MAP_KRYCKLAN/2010/HEIGHT_XX_P_10.asc'\n",
    "tools.reproj_match(infile=fp, match=match, outfile=out_fp, resampling_method='bilinear', save_in='asc')"
   ]
  },
  {
   "cell_type": "code",
   "execution_count": 23,
   "id": "2c9451cd-f18f-49bd-a88b-c2266de3e9f8",
   "metadata": {},
   "outputs": [],
   "source": [
    "# INTERPOLATING HOLES\n",
    "fp = r'/Users/jpnousu/Library/CloudStorage/OneDrive-Valtion/Krycklan data/GIS/DEM/processed/Krycklan_2015_DEM_match_forestmap.tif'\n",
    "with rasterio.open(fp) as src:\n",
    "    profile = src.profile\n",
    "    arr = src.read(1)\n",
    "    arr_filled = fillnodata(arr, mask=src.read_masks(1), max_search_distance=5, smoothing_iterations=0)\n",
    "\n",
    "out_fp = r'/Users/jpnousu/Library/CloudStorage/OneDrive-Valtion/Krycklan data/GIS/DEM/processed/Krycklan_2015_DEM_match_forestmap_filled.tif' \n",
    "with rasterio.open(out_fp, 'w', **profile) as dest:\n",
    "    dest.write_band(1, arr_filled)"
   ]
  },
  {
   "cell_type": "markdown",
   "id": "d0eac9cc-8f1a-4f41-97ac-d6b253f5ce05",
   "metadata": {},
   "source": [
    "### DEM DERIVATIVES WITH PYSHEDS"
   ]
  },
  {
   "cell_type": "code",
   "execution_count": 24,
   "id": "3d2858e5-9572-4cc4-857f-d28dd3293cdf",
   "metadata": {},
   "outputs": [
    {
     "name": "stderr",
     "output_type": "stream",
     "text": [
      "/Users/jpnousu/SpaFHy_GISPUTS/tools.py:1041: RuntimeWarning: invalid value encountered in log\n",
      "  twi = np.log((acc+1) / (np.tan(slope) + eps))\n"
     ]
    }
   ],
   "source": [
    "dem_path = r'/Users/jpnousu/Library/CloudStorage/OneDrive-Valtion/Krycklan data/GIS/DEM/processed/Krycklan_2015_DEM_match_forestmap_filled.tif'\n",
    "out_fd = r'/Users/jpnousu/Library/CloudStorage/OneDrive-Valtion/Krycklan data/GIS/DEM/derivatives/'\n",
    "tools.dem_derivatives(dem_path=dem_path, out_fd=out_fd, routing='d8')"
   ]
  },
  {
   "cell_type": "markdown",
   "id": "10067404-76ac-4de6-946b-79bee641710d",
   "metadata": {},
   "source": [
    "### SOIL MAP (FROM ANNELI)"
   ]
  },
  {
   "cell_type": "code",
   "execution_count": 2,
   "id": "f2801e77-9cae-46b7-9f90-941a87073f1e",
   "metadata": {},
   "outputs": [
    {
     "name": "stdout",
     "output_type": "stream",
     "text": [
      "{100: 'Morän', 84: 'Postglacial sand--grus', 89: 'Svallsediment, grus--block', 75: 'Torv', 50: 'Isälvssediment', 86: 'Lera--silt', 200: 'Fyllning', 31: 'Postglacial sand', 8809: 'Älvsediment, sand', 91: 'Vatten', 888: 'Berg'}\n"
     ]
    },
    {
     "name": "stderr",
     "output_type": "stream",
     "text": [
      "/Users/jpnousu/miniconda3/envs/pysheds/lib/python3.11/site-packages/pyogrio/raw.py:194: RuntimeWarning: /Users/jpnousu/Library/CloudStorage/OneDrive-Valtion/Krycklan data/GIS/SOIL/krycklan_QD/krycklan_QD_J2.shp contains polygon(s) with rings with invalid winding order. Autocorrecting them, but that shapefile should be corrected using ogr2ogr for example.\n",
      "  result = ogr_read(\n"
     ]
    }
   ],
   "source": [
    "file1= r'/Users/jpnousu/Library/CloudStorage/OneDrive-Valtion/Krycklan data/GIS/SOIL/krycklan_QD/krycklan_QD_J1.shp'\n",
    "file2 = r'/Users/jpnousu/Library/CloudStorage/OneDrive-Valtion/Krycklan data/GIS/SOIL/krycklan_QD/krycklan_QD_J2.shp'\n",
    "df1 = gpd.read_file(file1)\n",
    "df2 = gpd.read_file(file2)\n",
    "codes = {}\n",
    "for id in df1['JY1'].unique():\n",
    "    codes[id] = df1.loc[df1['JY1'] == id, 'JY1_TX'].iloc[0]\n",
    "for id in df2['JG2'].unique():\n",
    "    codes[id] = df2.loc[df2['JG2'] == id, 'JG2_TX'].iloc[0]\n",
    "print(codes)"
   ]
  },
  {
   "cell_type": "code",
   "execution_count": 6,
   "id": "51b470fc-1524-4fe3-af24-62141dbe6f94",
   "metadata": {},
   "outputs": [
    {
     "name": "stderr",
     "output_type": "stream",
     "text": [
      "/Users/jpnousu/miniconda3/envs/pysheds/lib/python3.11/site-packages/pyogrio/raw.py:194: RuntimeWarning: /Users/jpnousu/Library/CloudStorage/OneDrive-Valtion/Krycklan data/GIS/SOIL/krycklan_QD/krycklan_QD_J2.shp contains polygon(s) with rings with invalid winding order. Autocorrecting them, but that shapefile should be corrected using ogr2ogr for example.\n",
      "  result = ogr_read(\n"
     ]
    }
   ],
   "source": [
    "file1 = r'/Users/jpnousu/Library/CloudStorage/OneDrive-Valtion/Krycklan data/GIS/SOIL/krycklan_QD/krycklan_QD_J1.shp'\n",
    "file2 = r'/Users/jpnousu/Library/CloudStorage/OneDrive-Valtion/Krycklan data/GIS/SOIL/krycklan_QD/krycklan_QD_J2.shp'\n",
    "out_fp1 = r'/Users/jpnousu/Library/CloudStorage/OneDrive-Valtion/Krycklan data/GIS/SOIL/krycklan_QD/krycklan_QD_J1.asc'\n",
    "out_fp2 = r'/Users/jpnousu/Library/CloudStorage/OneDrive-Valtion/Krycklan data/GIS/SOIL/krycklan_QD/krycklan_QD_J2.asc'\n",
    "ref_fp = r'/Users/jpnousu/Library/CloudStorage/OneDrive-Valtion/Krycklan data/GIS/SLU_FOREST_MAP_KRYCKLAN/2010/BIRCHVOL_XX_P_10.asc'\n",
    "tools.rasterize_shapefile(shapefile=file1, burn_field='JY1', subset=None, out_fp=out_fp1, ref_raster=ref_fp, plot=False, save_in='asc')\n",
    "tools.rasterize_shapefile(shapefile=file2, burn_field='JG2', subset=None, out_fp=out_fp2, ref_raster=ref_fp, plot=False, save_in='asc')"
   ]
  },
  {
   "cell_type": "code",
   "execution_count": 7,
   "id": "c09f0dae-3775-478b-8ebc-5c9edfb8e419",
   "metadata": {},
   "outputs": [],
   "source": [
    "file1 = r'/Users/jpnousu/Library/CloudStorage/OneDrive-Valtion/Krycklan data/GIS/SOIL/krycklan_QD/krycklan_QD_J1.asc'\n",
    "file2 = r'/Users/jpnousu/Library/CloudStorage/OneDrive-Valtion/Krycklan data/GIS/SOIL/krycklan_QD/krycklan_QD_J2.asc'\n",
    "out_fp = r'/Users/jpnousu/Library/CloudStorage/OneDrive-Valtion/Krycklan data/GIS/SOIL/krycklan_QD/krycklan_QD_J1_J2.asc'\n",
    "tools.fill_layer_na_with_layer(priority_layer=file1, secondary_layer=file2, out_fp=out_fp, save_in='asc')"
   ]
  },
  {
   "cell_type": "code",
   "execution_count": 44,
   "id": "c263c45b-3445-4e74-8b0d-0e5e76ecda0e",
   "metadata": {},
   "outputs": [],
   "source": [
    "file = r'/Users/jpnousu/Library/CloudStorage/OneDrive-Valtion/Krycklan data/GIS/SOIL/krycklan_QD/krycklan_QD_J1_J2.asc'\n",
    "out_fp = r'/Users/jpnousu/Library/CloudStorage/OneDrive-Valtion/Krycklan data/GIS/SOIL/krycklan_QD/lake_mask.asc'\n",
    "\n",
    "with rasterio.open(file) as src:\n",
    "    data = src.read(1)\n",
    "    meta = src.meta.copy()\n",
    "    new_data = data.copy()\n",
    "    new_data[data != 91.0] = meta['nodata']\n",
    "    new_data[data == 91.0] = 1.0\n",
    "with rasterio.open(out_fp, 'w', **meta) as dst:\n",
    "    out = dst.write(new_data, 1)"
   ]
  },
  {
   "cell_type": "code",
   "execution_count": 30,
   "id": "9ba5409a-7a92-469e-a3b2-c0c30843edbc",
   "metadata": {},
   "outputs": [],
   "source": [
    "file = r'/Users/jpnousu/Library/CloudStorage/OneDrive-Valtion/Krycklan data/GIS/SOIL/krycklan_QD/krycklan_QD_J1_J2.asc'\n",
    "out_fp = r'/Users/jpnousu/Library/CloudStorage/OneDrive-Valtion/Krycklan data/GIS/SOIL/krycklan_QD/krycklan_QD_J1_J2_final.asc'\n",
    "\n",
    "with rasterio.open(file) as src:\n",
    "    data = src.read(1)\n",
    "    new_data = data.copy()\n",
    "    meta = src.meta.copy()\n",
    "    nodata = meta['nodata']\n",
    "    orig_uniq = np.unique(data[data != nodata])\n",
    "    new_uniq = np.arange(1, len(orig_uniq)+1)\n",
    "    for i in range(len(orig_uniq)):\n",
    "        new_data[data == orig_uniq[i]] = new_uniq[i] \n",
    "with rasterio.open(out_fp, 'w', **meta) as dst:\n",
    "    out = dst.write(new_data, 1)"
   ]
  },
  {
   "cell_type": "markdown",
   "id": "fdb900d4-0aa3-47d8-8f29-1a4d4f62ab77",
   "metadata": {},
   "source": [
    "### CATCHMENT BOUNDARIES INTO CMASK"
   ]
  },
  {
   "cell_type": "code",
   "execution_count": 5,
   "id": "a9ccdcba-3d5c-4464-b032-c9a69b8e922b",
   "metadata": {},
   "outputs": [],
   "source": [
    "file = r'/Users/jpnousu/Library/CloudStorage/OneDrive-Valtion/Krycklan data/GIS/CATCHMENTS/Krycklan_catchments/Krycklan catchments.shp'\n",
    "out_fp = r'/Users/jpnousu/Library/CloudStorage/OneDrive-Valtion/Krycklan data/GIS/DEM/derivatives/cmask.asc'\n",
    "ref_fp = r'/Users/jpnousu/Library/CloudStorage/OneDrive-Valtion/Krycklan data/GIS/SLU_FOREST_MAP_KRYCKLAN/2010/BIRCHVOL_XX_P_10.asc'\n",
    "tools.rasterize_shapefile(shapefile=file, burn_field='Huvudomr', subset=None, out_fp=out_fp, ref_raster=ref_fp, plot=False, save_in='asc')"
   ]
  },
  {
   "cell_type": "markdown",
   "id": "5bb45403-d848-4561-9853-d431173db98d",
   "metadata": {},
   "source": [
    "### STREAMS INTO STREAM MASK"
   ]
  },
  {
   "cell_type": "code",
   "execution_count": 12,
   "id": "7a696798-a9b3-464e-914e-0bf3b2048be9",
   "metadata": {},
   "outputs": [],
   "source": [
    "file = r'/Users/jpnousu/Library/CloudStorage/OneDrive-Valtion/Krycklan data/GIS/CATCHMENTS/Krycklan_5ha_streams/5haStreams.shp'\n",
    "out_fp = r'/Users/jpnousu/Library/CloudStorage/OneDrive-Valtion/Krycklan data/GIS/DEM/derivatives/stream_mask.asc'\n",
    "ref_fp = r'/Users/jpnousu/Library/CloudStorage/OneDrive-Valtion/Krycklan data/GIS/SLU_FOREST_MAP_KRYCKLAN/2010/BIRCHVOL_XX_P_10.asc'\n",
    "tools.rasterize_shapefile(shapefile=file, burn_field='GRID_CODE', subset=None, out_fp=out_fp, ref_raster=ref_fp, plot=False, save_in='asc')"
   ]
  }
 ],
 "metadata": {
  "kernelspec": {
   "display_name": "Python 3 (ipykernel)",
   "language": "python",
   "name": "python3"
  },
  "language_info": {
   "codemirror_mode": {
    "name": "ipython",
    "version": 3
   },
   "file_extension": ".py",
   "mimetype": "text/x-python",
   "name": "python",
   "nbconvert_exporter": "python",
   "pygments_lexer": "ipython3",
   "version": "3.11.6"
  }
 },
 "nbformat": 4,
 "nbformat_minor": 5
}
