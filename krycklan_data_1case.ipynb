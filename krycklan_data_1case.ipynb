{
 "cells": [
  {
   "cell_type": "markdown",
   "id": "2f7e1e6c-edf7-4f8d-806f-4db7c895960d",
   "metadata": {},
   "source": [
    "J1:\n",
    "Swedish: ['Morän', 'Postglacial sand--grus', 'Svallsediment, grus--block', 'Torv', 'Isälvssediment', 'Lera--silt']\n",
    "Finnish: ['Moreeni', 'Jääkauden jälkeinen hiekka--sora', 'Huuhdottu sedimentti, sora--kivet', 'Turve', 'Sulamisvesisedimentti', 'Savi--lieju']\n",
    "English: ['Moraine', 'Postglacial sand--gravel', 'Washed sediment, gravel--boulders', 'Peat', 'Glaciofluvial sediment', 'Clay--silt']\n",
    "\n",
    "J2:\n",
    "Swedish: ['Fyllning', 'Isälvssediment', 'Torv', 'Postglacial sand', 'Älvsediment, sand', 'Vatten', 'Morän', 'Lera--silt', 'Berg']\n",
    "Finnish: ['Täyttömaa', 'Sulamisvesisedimentti', 'Turve', 'Jääkauden jälkeinen hiekka', 'Jokisedimentti, hiekka', 'Vesi', 'Moreeni', 'Savi--lieju', 'Kallio']\n",
    "English: ['Fill', 'Glaciofluvial sediment', 'Peat', 'Postglacial sand', 'Fluvial sediment, sand', 'Water', 'Moraine', 'Clay--silt', 'Bedrock']\n",
    "\n",
    "J1_J2:\n",
    "Swedish: ["
   ]
  },
  {
   "cell_type": "code",
   "execution_count": 2,
   "id": "ae86cb28-cff5-4d33-a7a0-9a5791179dcc",
   "metadata": {},
   "outputs": [
    {
     "name": "stderr",
     "output_type": "stream",
     "text": [
      "OMP: Info #276: omp_set_nested routine deprecated, please use omp_set_max_active_levels instead.\n"
     ]
    }
   ],
   "source": [
    "import tools\n",
    "import rasterio\n",
    "import geopandas as gpd\n",
    "import os\n",
    "import glob\n",
    "import numpy as np\n",
    "import matplotlib.pyplot as plt\n",
    "from catchment import stem_volume_to_LAI\n",
    "from rasterio.fill import fillnodata\n",
    "from tools import burn_water_dem, read_AsciiGrid, write_AsciiGrid\n",
    "from rasterio.plot import show\n",
    "import rasterio\n",
    "from scipy.stats import mstats\n",
    "import rasterio.windows\n",
    "import sys\n"
   ]
  },
  {
   "cell_type": "code",
   "execution_count": 5,
   "id": "09424246-9aa0-4e9d-807f-b6834159a6d8",
   "metadata": {},
   "outputs": [],
   "source": [
    "fd = r'/Users/jpnousu/Library/CloudStorage/OneDrive-Valtion/Krycklan data/GIS/SLU_FOREST_MAP/2010/'\n",
    "out_fd = '/Users/jpnousu/Library/CloudStorage/OneDrive-Valtion/Krycklan data/GIS/SLU_FOREST_MAP_KRYCKLAN/2010/'\n",
    "p = os.path.join(fd, '*.tif')\n",
    "for file in glob.glob(p):\n",
    "    out_fn = file.rpartition('/')[-1][:-4]\n",
    "    out_fp = os.path.join(out_fd, out_fn) + '.asc'\n",
    "    tools.open_raster_with_subset(file, out_fp, subset, plot=False, save_in='asc')"
   ]
  },
  {
   "cell_type": "code",
   "execution_count": 34,
   "id": "4d09939c-8e0e-46d6-9dba-a3f44c24839a",
   "metadata": {},
   "outputs": [],
   "source": [
    "fd = '/Users/jpnousu/Library/CloudStorage/OneDrive-Valtion/Krycklan data/GIS/SLU_FOREST_MAP_KRYCKLAN/2010/'\n",
    "out_fd = '/Users/jpnousu/Library/CloudStorage/OneDrive-Valtion/Krycklan data/GIS/SLU_FOREST_MAP_KRYCKLAN/2010_processed/'\n",
    "p = os.path.join(fd, '*.asc')\n",
    "for file in glob.glob(p):\n",
    "    out_fn = file.rpartition('/')[-1][:-4]\n",
    "    out_fp = os.path.join(out_fd, out_fn) + '.asc'\n",
    "    with rasterio.open(file) as src:\n",
    "        data = src.read(1)\n",
    "        meta = src.meta.copy()\n",
    "        nodata_1 = meta['nodata']\n",
    "        nodata_2 = -9999\n",
    "        data[data == nodata_1] = nodata_2\n",
    "        data[data == nodata_2] = 0.0\n",
    "        meta.update({\"nodata\":nodata_2})\n",
    "    with rasterio.open(out_fp, 'w', **meta) as dst:\n",
    "        src = dst.write(data, 1)"
   ]
  },
  {
   "cell_type": "markdown",
   "id": "340bbf1c-d4db-4415-a64f-551cc6d8f7eb",
   "metadata": {},
   "source": [
    "### INTERPOLATING DEM HOLES"
   ]
  },
  {
   "cell_type": "code",
   "execution_count": 13,
   "id": "d138d98b-1b41-4c08-a339-2fbec78398f8",
   "metadata": {},
   "outputs": [],
   "source": [
    "# INTERPOLATING HOLES\n",
    "fp = r'/Users/jpnousu/Library/CloudStorage/OneDrive-Valtion/Krycklan data/GIS/DEM/Krycklan_2015_DEM_0.5m/Krycklan_2015_DEM.tif'\n",
    "with rasterio.open(fp) as src:\n",
    "    profile = src.profile\n",
    "    arr = src.read(1)\n",
    "    arr_filled = fillnodata(arr, mask=src.read_masks(1), max_search_distance=5, smoothing_iterations=0)\n",
    "\n",
    "out_fp = r'/Users/jpnousu/Library/CloudStorage/OneDrive-Valtion/Krycklan data/GIS/DEM/Krycklan_2015_DEM_0.5m/Krycklan_2015_DEM_filled.tif'\n",
    "with rasterio.open(out_fp, 'w', **profile) as dest:\n",
    "    dest.write_band(1, arr_filled)"
   ]
  },
  {
   "cell_type": "code",
   "execution_count": 43,
   "id": "b2abf27c-2c65-4d9d-9cc9-77c65b8e47ed",
   "metadata": {},
   "outputs": [],
   "source": [
    "dem_path = r'/Users/jpnousu/Library/CloudStorage/OneDrive-Valtion/Krycklan data/GIS/DEM/Krycklan_2015_DEM_0.5m/Krycklan_2015_DEM_filled.tif'\n",
    "stream_mask_path = r'/Users/jpnousu/Library/CloudStorage/OneDrive-Valtion/Krycklan data/GIS/DEM/derivatives_0case/streams_d8_5ha.asc'\n",
    "stream_ele_path = r'/Users/jpnousu/Library/CloudStorage/OneDrive-Valtion/Krycklan data/GIS/DEM/derivatives_1case/streams_d8_5ha_elev.asc'\n",
    "\n",
    "# Step 1: Read DEM and stream mask\n",
    "with rasterio.open(dem_path) as dem_src, rasterio.open(stream_mask_path) as stream_src:\n",
    "    dem = dem_src.read(1)  # DEM data (0.5m resolution)\n",
    "    stream_mask = stream_src.read(1)  # Stream mask data (25m resolution)\n",
    "    \n",
    "    # Get metadata of the stream mask raster\n",
    "    stream_meta = stream_src.meta.copy()\n",
    "    stream_meta.update(crs=dem_src.crs)\n",
    "    \n",
    "# Step 2: For each stream cell in stream_mask, find corresponding DEM cells\n",
    "# Stream mask has lower resolution, so we calculate corresponding DEM grid-cells\n",
    "dem_transform = dem_src.transform\n",
    "stream_transform = stream_src.transform\n",
    "\n",
    "stream_elev = np.full_like(stream_mask, np.nan, dtype=np.float32)\n",
    "\n",
    "stream_cells = np.where(stream_mask == 1)  # Assuming 1 marks stream locations\n",
    "\n",
    "\n",
    "# Iterate over each stream cell in the lower resolution stream mask\n",
    "for i, j in zip(*stream_cells):\n",
    "    # Create a 1x1 window for the current stream cell in the stream mask\n",
    "    stream_window = rasterio.windows.Window(col_off=j, row_off=i, width=1, height=1)\n",
    "    \n",
    "    # Get the bounds of the stream cell in the stream mask's coordinate system\n",
    "    stream_bounds = rasterio.windows.bounds(stream_window, stream_transform)\n",
    "    \n",
    "    # Convert stream bounds to corresponding DEM window using index notation\n",
    "    dem_col_start, dem_row_start = ~dem_transform * (stream_bounds[0], stream_bounds[3])  # (left, top)\n",
    "    dem_col_end, dem_row_end = ~dem_transform * (stream_bounds[2], stream_bounds[1])  # (right, bottom)\n",
    "\n",
    "    #if j == 114:\n",
    "    #    print(dem_transform)\n",
    "    #    print('')\n",
    "    #    print(~dem_transform)\n",
    "    #    print('')\n",
    "    #    print('row', dem_row_start, dem_row_end)\n",
    "    #    print('')\n",
    "    #    print('col', dem_col_start, dem_col_end)\n",
    "    #    sys.exit()\n",
    "        \n",
    "    # Convert to integer indices for the DEM grid\n",
    "    dem_row_start, dem_row_end = int(np.floor(dem_row_start)), int(np.ceil(dem_row_end))\n",
    "    dem_col_start, dem_col_end = int(np.floor(dem_col_start)), int(np.ceil(dem_col_end))\n",
    "    \n",
    "    # Step 3: Extract DEM values within the corresponding DEM cells\n",
    "    dem_subset = dem[dem_row_start:dem_row_end, dem_col_start:dem_col_end]\n",
    "            \n",
    "    del dem_row_start, dem_row_end, dem_col_start, dem_col_end\n",
    "\n",
    "        \n",
    "    # Flatten and remove np.nan values from DEM subset\n",
    "    valid_dem_values = dem_subset[np.isfinite(dem_subset)]\n",
    "\n",
    "    \n",
    "    if len(valid_dem_values) > 0:\n",
    "        # Step 4: Calculate the first quantile (0.1)\n",
    "        #quantile_value = mstats.mquantiles(valid_dem_values, prob=0.1)[0]\n",
    "        quantile_value = np.quantile(valid_dem_values, 0.02)\n",
    "        # Assign the quantile value to the stream depth for the current stream cell\n",
    "        stream_elev[i, j] = quantile_value\n",
    "    \n",
    "# Step 5: Save the new raster with the same metadata as the stream mask\n",
    "stream_meta.update(dtype=rasterio.float32, count=1)\n",
    "\n",
    "with rasterio.open(stream_ele_path, 'w', **stream_meta) as dst:\n",
    "    dst.write(stream_elev, 1)"
   ]
  },
  {
   "cell_type": "code",
   "execution_count": 44,
   "id": "b7d6363a-7173-4a43-9bc7-4110f5b1f449",
   "metadata": {},
   "outputs": [],
   "source": [
    "stream_ele_path = r'/Users/jpnousu/Library/CloudStorage/OneDrive-Valtion/Krycklan data/GIS/DEM/derivatives_1case/streams_d8_5ha_elev.asc'\n",
    "dem_path = r'/Users/jpnousu/Library/CloudStorage/OneDrive-Valtion/Krycklan data/GIS/DEM/derivatives_0case/orig_dem.asc'\n",
    "stream_depth_path = r'/Users/jpnousu/Library/CloudStorage/OneDrive-Valtion/Krycklan data/GIS/DEM/derivatives_1case/streams_d8_5ha_depths.asc'\n",
    "\n",
    "# Step 1: Open the stream elevation and DEM files\n",
    "with rasterio.open(stream_ele_path) as stream_src:\n",
    "    stream_ele = stream_src.read(1)  # Read stream elevation\n",
    "    stream_meta = stream_src.meta.copy()  # Get metadata from stream elevation\n",
    "\n",
    "with rasterio.open(dem_path) as dem_src:\n",
    "    dem_data = dem_src.read(1)  # Read DEM data\n",
    "\n",
    "# Step 2: Create a mask for valid DEM values\n",
    "dem_mask = np.isfinite(dem_data)\n",
    "\n",
    "# Step 3: Calculate stream depth only where DEM is valid\n",
    "# Only calculate where stream elevation is valid (not NaN) and DEM is valid\n",
    "stream_depth = np.where(dem_mask & np.isfinite(stream_ele), stream_ele - dem_data, np.nan)\n",
    "\n",
    "stream_depth[stream_depth > 0] = 0\n",
    "stream_depth[stream_depth < -15 ] = -15\n",
    "\n",
    "# Step 4: Save the stream depth as a new raster\n",
    "stream_meta.update(dtype=rasterio.float32, count=1)\n",
    "\n",
    "with rasterio.open(stream_depth_path, 'w', **stream_meta) as dst:\n",
    "    dst.write(stream_depth, 1)"
   ]
  },
  {
   "cell_type": "code",
   "execution_count": null,
   "id": "2229064c-4271-421f-97f3-95081fe65754",
   "metadata": {},
   "outputs": [],
   "source": []
  }
 ],
 "metadata": {
  "kernelspec": {
   "display_name": "Python 3 (ipykernel)",
   "language": "python",
   "name": "python3"
  },
  "language_info": {
   "codemirror_mode": {
    "name": "ipython",
    "version": 3
   },
   "file_extension": ".py",
   "mimetype": "text/x-python",
   "name": "python",
   "nbconvert_exporter": "python",
   "pygments_lexer": "ipython3",
   "version": "3.11.6"
  }
 },
 "nbformat": 4,
 "nbformat_minor": 5
}
