{
 "cells": [
  {
   "cell_type": "code",
   "execution_count": 1,
   "id": "bf36fe53-ab55-4966-9dfc-00a363a056ae",
   "metadata": {},
   "outputs": [
    {
     "name": "stderr",
     "output_type": "stream",
     "text": [
      "OMP: Info #276: omp_set_nested routine deprecated, please use omp_set_max_active_levels instead.\n"
     ]
    }
   ],
   "source": [
    "import rasterio\n",
    "import geopandas as gpd\n",
    "from tools import mask_raster_with_shapefile"
   ]
  },
  {
   "cell_type": "code",
   "execution_count": 2,
   "id": "41b398cf-65a9-4ac3-8cf3-06fc75c9d7aa",
   "metadata": {},
   "outputs": [],
   "source": [
    "in_shape = r'/Users/jpnousu/Library/CloudStorage/OneDrive-Valtion/Krycklan data/GIS/CATCHMENTS/Krycklan_CatchmentOutline/CatchmentOutline.shp'\n",
    "in_raster = r'/Users/jpnousu/Library/CloudStorage/OneDrive-Valtion/Krycklan data/GIS/DEM/processed/Krycklan_2015_DEM_match_forestmap_filled.asc'\n",
    "out_raster = r'/Users/jpnousu/Library/CloudStorage/OneDrive-Valtion/Krycklan data/GIS/DEM/processed/Krycklan_2015_DEM_match_forestmap_filled_clipped.asc'"
   ]
  },
  {
   "cell_type": "code",
   "execution_count": 3,
   "id": "41d5b964-005a-480b-b63c-9dd31e1eb125",
   "metadata": {},
   "outputs": [],
   "source": [
    "mask_raster_with_shapefile(in_raster, in_shape, out_raster, nodata_value=-9999)"
   ]
  },
  {
   "cell_type": "code",
   "execution_count": null,
   "id": "c1783997-5048-4f0e-ba5b-c3af4ec15d67",
   "metadata": {},
   "outputs": [],
   "source": []
  }
 ],
 "metadata": {
  "kernelspec": {
   "display_name": "Python 3 (ipykernel)",
   "language": "python",
   "name": "python3"
  },
  "language_info": {
   "codemirror_mode": {
    "name": "ipython",
    "version": 3
   },
   "file_extension": ".py",
   "mimetype": "text/x-python",
   "name": "python",
   "nbconvert_exporter": "python",
   "pygments_lexer": "ipython3",
   "version": "3.11.6"
  }
 },
 "nbformat": 4,
 "nbformat_minor": 5
}
