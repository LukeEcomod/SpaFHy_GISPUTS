{
 "cells": [
  {
   "cell_type": "code",
   "execution_count": 2,
   "id": "d33cc47d-0d48-4c69-a940-7765c3b0b191",
   "metadata": {},
   "outputs": [],
   "source": [
    "import rasterio\n",
    "from rasterio.windows import from_bounds\n"
   ]
  },
  {
   "cell_type": "code",
   "execution_count": 5,
   "id": "96fc1bd4-4990-4ed4-a6d3-6a8ba317e37c",
   "metadata": {},
   "outputs": [],
   "source": [
    "fp = r'/appl/data/geo/mml/dem2m/dem2m_direct.vrt'\n",
    "subset = [350000,6857000,360000,6865000] # coordinate box of the dem, KUIVAJARVI"
   ]
  },
  {
   "cell_type": "code",
   "execution_count": 6,
   "id": "0dc2e986-6201-48a7-9c61-d59599a15178",
   "metadata": {},
   "outputs": [
    {
     "name": "stdout",
     "output_type": "stream",
     "text": [
      "EPSG:3067\n"
     ]
    }
   ],
   "source": [
    "    with rasterio.open(fp) as src:\n",
    "        data = src.read(1, window=from_bounds(subset[0], subset[1], subset[2], subset[3], src.transform))\n",
    "        profile = src.profile\n",
    "        \n",
    "    rasterio.Affine(2.0, 0.0, 62000.0,\n",
    "       0.0, -2.0, 7782000.0)\n",
    "    out_meta = profile.copy()\n",
    "    print(profile['crs'])\n",
    "    # Update the metadata\n",
    "    out_meta.update({\"driver\": \"GTiff\",\n",
    "                    \"height\": data.shape[0],\n",
    "                    \"width\": data.shape[1],\n",
    "                    \"transform\": profile['transform'],\n",
    "                    \"crs\": profile['crs']\n",
    "                        }\n",
    "                    )"
   ]
  },
  {
   "cell_type": "code",
   "execution_count": 9,
   "id": "d3e36803-d1d8-4843-9af1-7adb636a6393",
   "metadata": {},
   "outputs": [],
   "source": [
    "with rasterio.open(fp) as src:\n",
    "    rst = src.read(window=from_bounds(614500, 6640500, 644500, 6668500, src.transform))"
   ]
  },
  {
   "cell_type": "code",
   "execution_count": 32,
   "id": "35ba933b-5c8d-40ad-be17-0ebcd06b7b38",
   "metadata": {},
   "outputs": [
    {
     "data": {
      "text/plain": [
       "Affine(2.0, 0.0, 62000.0,\n",
       "       0.0, -2.0, 7782000.0)"
      ]
     },
     "execution_count": 32,
     "metadata": {},
     "output_type": "execute_result"
    }
   ],
   "source": []
  },
  {
   "cell_type": "code",
   "execution_count": 15,
   "id": "a1553717-9054-48b5-a68c-1fb09e7af35a",
   "metadata": {},
   "outputs": [
    {
     "data": {
      "text/plain": [
       "Affine(2.0, 0.0, 62000.0,\n",
       "       0.0, -2.0, 7782000.0)"
      ]
     },
     "execution_count": 15,
     "metadata": {},
     "output_type": "execute_result"
    }
   ],
   "source": [
    "src.transform"
   ]
  },
  {
   "cell_type": "code",
   "execution_count": 23,
   "id": "59e064d7-4d5e-47ba-8130-be3c46fa06f6",
   "metadata": {},
   "outputs": [],
   "source": [
    "    with rasterio.open(fp) as src:\n",
    "        data = src.read(1, window=from_bounds(subset[0], subset[1], subset[2], subset[3], src.transform))\n",
    "        "
   ]
  },
  {
   "cell_type": "code",
   "execution_count": 24,
   "id": "452be4e6-0f1d-4779-a1c3-1e8b3c6190bc",
   "metadata": {},
   "outputs": [
    {
     "data": {
      "text/plain": [
       "array([[130.611, 130.495, 130.506, ..., 168.491, 168.322, 168.169],\n",
       "       [130.585, 130.497, 130.418, ..., 168.592, 168.431, 168.34 ],\n",
       "       [130.636, 130.496, 130.353, ..., 168.695, 168.573, 168.474],\n",
       "       ...,\n",
       "       [171.475, 171.394, 171.376, ..., 147.843, 148.002, 148.224],\n",
       "       [171.436, 171.445, 171.439, ..., 147.842, 148.087, 148.219],\n",
       "       [171.383, 171.452, 171.479, ..., 147.868, 148.048, 148.176]],\n",
       "      dtype=float32)"
      ]
     },
     "execution_count": 24,
     "metadata": {},
     "output_type": "execute_result"
    }
   ],
   "source": [
    "data"
   ]
  },
  {
   "cell_type": "code",
   "execution_count": 33,
   "id": "700b543c-6dfe-4404-beea-f109701592b1",
   "metadata": {},
   "outputs": [],
   "source": [
    "test = rasterio.Affine(src.transform[0], src.transform[1], 350000, src.transform[3], src.transform[4], 6857000)"
   ]
  },
  {
   "cell_type": "code",
   "execution_count": 34,
   "id": "2ed7a0fc-1e42-4cb2-b4e4-5e288eb164bc",
   "metadata": {},
   "outputs": [
    {
     "data": {
      "text/plain": [
       "Affine(2.0, 0.0, 350000.0,\n",
       "       0.0, -2.0, 6857000.0)"
      ]
     },
     "execution_count": 34,
     "metadata": {},
     "output_type": "execute_result"
    }
   ],
   "source": [
    "test"
   ]
  },
  {
   "cell_type": "code",
   "execution_count": null,
   "id": "ea78e336-e309-4949-8ba8-9b8e32eb4567",
   "metadata": {},
   "outputs": [],
   "source": []
  }
 ],
 "metadata": {
  "kernelspec": {
   "display_name": "Python 3 (ipykernel)",
   "language": "python",
   "name": "python3"
  },
  "language_info": {
   "codemirror_mode": {
    "name": "ipython",
    "version": 3
   },
   "file_extension": ".py",
   "mimetype": "text/x-python",
   "name": "python",
   "nbconvert_exporter": "python",
   "pygments_lexer": "ipython3",
   "version": "3.11.6"
  }
 },
 "nbformat": 4,
 "nbformat_minor": 5
}
