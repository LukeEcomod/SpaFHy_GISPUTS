{
 "cells": [
  {
   "cell_type": "code",
   "execution_count": null,
   "metadata": {},
   "outputs": [
    {
     "name": "stdout",
     "output_type": "stream",
     "text": [
      "pallasjoki\n"
     ]
    },
    {
     "name": "stderr",
     "output_type": "stream",
     "text": [
      "C:\\Users\\janousu\\Anaconda3\\envs\\gis\\lib\\site-packages\\pysheds\\io.py:142: UserWarning: No `nodata` value detected. Defaulting to 0.\n",
      "  warnings.warn('No `nodata` value detected. Defaulting to 0.')\n",
      "C:\\Users\\janousu\\Anaconda3\\envs\\gis\\lib\\site-packages\\pysheds\\io.py:142: UserWarning: No `nodata` value detected. Defaulting to 0.\n",
      "  warnings.warn('No `nodata` value detected. Defaulting to 0.')\n"
     ]
    },
    {
     "name": "stdout",
     "output_type": "stream",
     "text": [
      "lompolonjankka\n"
     ]
    }
   ],
   "source": [
    "# modules\n",
    "from tools import delineate_catchment\n",
    "import pandas as pd\n",
    "\n",
    "# inputs parameters\n",
    "subset = [370000,7537500,390000,7557500]\n",
    "outlet_file = 'F:\\Pallaslake_Catchment\\stream_outlets.csv'\n",
    "streams = pd.read_csv(outlet_file, sep=';', usecols=['stream'], encoding = \"ISO-8859-1\")['stream'].to_list()\n",
    "outfolder = 'F:\\Pallaslake_Catchment\\GIS_inputs'\n",
    "\n",
    "# delineate catchments inside loop\n",
    "for catchment_name in streams:\n",
    "    print(catchment_name)\n",
    "    delineate_catchment(outfolder, catchment_name, subset, outlet_file)"
   ]
  },
  {
   "cell_type": "code",
   "execution_count": null,
   "metadata": {},
   "outputs": [],
   "source": []
  }
 ],
 "metadata": {
  "kernelspec": {
   "display_name": "Python 3",
   "language": "python",
   "name": "python3"
  },
  "language_info": {
   "codemirror_mode": {
    "name": "ipython",
    "version": 3
   },
   "file_extension": ".py",
   "mimetype": "text/x-python",
   "name": "python",
   "nbconvert_exporter": "python",
   "pygments_lexer": "ipython3",
   "version": "3.8.6"
  }
 },
 "nbformat": 4,
 "nbformat_minor": 4
}
